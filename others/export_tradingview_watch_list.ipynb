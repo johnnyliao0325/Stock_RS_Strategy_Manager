{
 "cells": [
  {
   "cell_type": "code",
   "execution_count": 1,
   "metadata": {},
   "outputs": [
    {
     "name": "stdout",
     "output_type": "stream",
     "text": [
      "     有價證券名稱 市場別    產業別 公開發行/上市(櫃)/發行日\n",
      "ID                                   \n",
      "1101     台泥  上市   水泥工業     1962/02/09\n",
      "1102     亞泥  上市   水泥工業     1962/06/08\n",
      "1103     嘉泥  上市   水泥工業     1969/11/14\n",
      "1104     環泥  上市   水泥工業     1971/02/01\n",
      "1108     幸福  上市   水泥工業     1990/06/06\n",
      "...     ...  ..    ...            ...\n",
      "9949     琉園  上櫃  文化創意業     2003/11/21\n",
      "9950    萬國通  上櫃   塑膠工業     2004/02/17\n",
      "9951     皇田  上櫃   電機機械     2003/12/18\n",
      "9960    邁達康  上櫃   運動休閒     2004/12/06\n",
      "9962     有益  上櫃   鋼鐵工業     2006/07/10\n",
      "\n",
      "[1814 rows x 4 columns]\n"
     ]
    }
   ],
   "source": [
    "import requests\n",
    "import pandas as pd\n",
    "import numpy as np\n",
    "import warnings\n",
    "import datetime\n",
    "warnings.filterwarnings('ignore')\n",
    "# ============上市股票df============\n",
    "url = \"https://isin.twse.com.tw/isin/class_main.jsp?owncode=&stockname=&isincode=&market=1&issuetype=1&industry_code=&Page=1&chklike=Y\"\n",
    "response = requests.get(url)\n",
    "listed = pd.read_html(response.text)[0]\n",
    "listed.columns = listed.iloc[0,:]\n",
    "listed = listed[[\"有價證券代號\",\"有價證券名稱\",\"市場別\",\"產業別\",\"公開發行/上市(櫃)/發行日\"]]\n",
    "listed = listed.iloc[1:]\n",
    "\n",
    "# ============上櫃股票df============\n",
    "urlTWO = \"https://isin.twse.com.tw/isin/class_main.jsp?owncode=&stockname=&isincode=&market=2&issuetype=&industry_code=&Page=1&chklike=Y\"\n",
    "response = requests.get(urlTWO)\n",
    "listedTWO = pd.read_html(response.text)[0]\n",
    "listedTWO.columns = listedTWO.iloc[0,:]\n",
    "listedTWO = listedTWO.loc[listedTWO['有價證券別'] == '股票']\n",
    "listedTWO = listedTWO[[\"有價證券代號\",\"有價證券名稱\",\"市場別\",\"產業別\",\"公開發行/上市(櫃)/發行日\"]]\n",
    "\n",
    "# ============上市股票代號+.TW============\n",
    "stock_1 = listed[\"有價證券代號\"]\n",
    "stock_num = stock_1.apply(lambda x: str(x) + \".TW\")\n",
    "stock_num.loc[len(stock_num)+1] = '0050.TW'\n",
    "stock_num.loc[len(stock_num)+1] = '^TWII'\n",
    "# print(stock_num)\n",
    "\n",
    "# ============上櫃股票代號+.TWO============\n",
    "stock_2 = listedTWO[\"有價證券代號\"]\n",
    "stock_num2 = stock_2.apply(lambda x: str(x) + \".TWO\")\n",
    "# print(stock_num2)\n",
    "\n",
    "# ============concate全部股票代號============\n",
    "stock_num = pd.concat([stock_num, stock_num2], ignore_index=True)\n",
    "# print(stock_num)\n",
    "allstock_info = pd.concat([listed, listedTWO], ignore_index=True)\n",
    "allstock_info.columns = [\"ID\",\"有價證券名稱\",\"市場別\",\"產業別\",\"公開發行/上市(櫃)/發行日\"]\n",
    "allstock_info.set_index('ID', inplace = True)\n",
    "print(allstock_info)\n"
   ]
  },
  {
   "cell_type": "markdown",
   "metadata": {},
   "source": [
    "## 全部策略選中股票"
   ]
  },
  {
   "cell_type": "code",
   "execution_count": 5,
   "metadata": {},
   "outputs": [
    {
     "name": "stdout",
     "output_type": "stream",
     "text": [
      "2024-03-29-T5.txt saved\n",
      "2024-03-29-T5-2.txt saved\n",
      "2024-03-29-T6.txt saved\n",
      "2024-03-29-T11.txt saved\n"
     ]
    }
   ],
   "source": [
    "date = '2024-04-03'\n",
    "path = f'C:/Users/User/Desktop/StockInfoHub/Stock_Data_Collector/全個股條件篩選/{date}選股.xlsx'\n",
    "df = pd.read_excel(path)\n",
    "df['ID'] = df['ID'].apply(lambda x: str(x))\n",
    "df = df.set_index('ID')\n",
    "df['市場別'] = None\n",
    "for i in df.index:\n",
    "    df.loc[i, '市場別'] = allstock_info.loc[i, '市場別']\n",
    "all_df = df.copy()\n",
    "T5_id = all_df.loc[all_df['T5']].index.values\n",
    "T5_2_id = all_df.loc[all_df['T5-2']].index.values \n",
    "T6_id = all_df.loc[all_df['T6']].index.values\n",
    "T11_id = all_df.loc[all_df['T11']].index.values\n",
    "T5_2_id = [i for i in T5_2_id if i not in T5_id]\n",
    "T6_id = [i for i in T6_id if all([i not in T5_id, i not in T5_2_id])]\n",
    "T11_id = [i for i in T11_id if all([i not in T5_id, i not in T5_2_id, i not in T6_id])]\n",
    "template = ['T5', 'T5-2', 'T6', 'T11']\n",
    "ids = [T5_id, T5_2_id, T6_id, T11_id]\n",
    "for i, t in enumerate(template):\n",
    "    text = ''\n",
    "    for id in ids[i]:\n",
    "        if df.loc[id, '市場別'] == '上櫃':\n",
    "            text += f'TPEX:{id}\\n'\n",
    "        elif df.loc[id, '市場別'] == '上市':\n",
    "            text += f'TWSE:{id}\\n'\n",
    "        # create and save to txt\n",
    "    with open(f'C:/Users/User/Desktop/StockInfoHub/Stock_Data_Collector/tradingview觀察清單/{date}_{t}.txt', 'w', encoding='utf-8') as f:\n",
    "        f.write(text)\n",
    "    print(f'{date}-{t}.txt saved')\n"
   ]
  },
  {
   "cell_type": "markdown",
   "metadata": {},
   "source": [
    "## 每日新增的股票"
   ]
  },
  {
   "cell_type": "code",
   "execution_count": 4,
   "metadata": {},
   "outputs": [
    {
     "name": "stdout",
     "output_type": "stream",
     "text": [
      "New date:2024-04-02 | Old date:2024-04-01\n",
      "2024-04-02-T5_add.txt saved\n",
      "2024-04-02-T5-2_add.txt saved\n",
      "2024-04-02-T6_add.txt saved\n",
      "2024-04-02-T11_add.txt saved\n"
     ]
    },
    {
     "ename": "",
     "evalue": "",
     "output_type": "error",
     "traceback": [
      "\u001b[1;31mThe Kernel crashed while executing code in the current cell or a previous cell. \n",
      "\u001b[1;31mPlease review the code in the cell(s) to identify a possible cause of the failure. \n",
      "\u001b[1;31mClick <a href='https://aka.ms/vscodeJupyterKernelCrash'>here</a> for more info. \n",
      "\u001b[1;31mView Jupyter <a href='command:jupyter.viewOutput'>log</a> for further details."
     ]
    }
   ],
   "source": [
    "# ============讀今日和昨日的股票Excel============\n",
    "path = r'C:\\Users\\User\\Desktop\\StockInfoHub\\Stock_Data_Collector\\全個股條件篩選\\\\'\n",
    "new_date = '2024-04-02'\n",
    "old_date = '2024-04-01'\n",
    "df_old = pd.read_excel(f'{path}{old_date}選股.xlsx')\n",
    "df_new = pd.read_excel(f'{path}{new_date}選股.xlsx')\n",
    "df_old.set_index('ID', inplace=True)\n",
    "df_new.set_index('ID', inplace=True)\n",
    "          \n",
    "print(f'New date:{new_date} | Old date:{old_date}')\n",
    "\n",
    "# ============今日和昨日股票的ID============\n",
    "df_same_ID = df_new.loc[df_new.index.isin(df_old.index.values)].index.values\n",
    "df_old = df_old.loc[df_same_ID]\n",
    "df_new = df_new.loc[df_same_ID]\n",
    "old_T5_ID = df_old.loc[df_old['T5']].index.values\n",
    "old_T5_2_ID = df_old.loc[df_old['T5-2']].index.values\n",
    "old_T6_ID = df_old.loc[df_old['T6']].index.values\n",
    "old_T11_ID = df_old.loc[df_old['T11']].index.values\n",
    "new_T5_ID = df_new.loc[df_new['T5']].index.values\n",
    "new_T5_2_ID = df_new.loc[df_new['T5-2']].index.values\n",
    "new_T6_ID = df_new.loc[df_new['T6']].index.values\n",
    "new_T11_ID = df_new.loc[df_new['T11']].index.values\n",
    "\n",
    "# ============新增和刪除股票的ID============\n",
    "T5_add_ID = np.sort([i for i in new_T5_ID if i not in old_T5_ID])\n",
    "T5_drop_ID = np.sort([i for i in old_T5_ID if i not in new_T5_ID])\n",
    "T6_add_ID = np.sort([i for i in new_T6_ID if i not in old_T6_ID])\n",
    "T6_drop_ID = np.sort([i for i in old_T6_ID if i not in new_T6_ID])\n",
    "T11_add_ID = np.sort([i for i in new_T11_ID if i not in old_T11_ID])\n",
    "T11_drop_ID = np.sort([i for i in old_T11_ID if i not in new_T11_ID])\n",
    "T5_2_add_ID = np.sort([i for i in new_T5_2_ID if i not in old_T5_2_ID])\n",
    "T5_2_drop_ID = np.sort([i for i in old_T5_2_ID if i not in new_T5_2_ID])\n",
    "T5_drop_goodID = np.sort([i for i in T5_drop_ID if all([df_new.loc[i,'S250rate']>=75, df_new.loc[i, 'S20rate']>85])])\n",
    "T5_2_drop_goodID = np.sort([i for i in T5_2_drop_ID if all([df_new.loc[i,'ES250rate']>=75, df_new.loc[i, 'ES20rate']>85])])\n",
    "T5_2_add_ID = [i for i in T5_2_add_ID if i not in T5_add_ID]\n",
    "T6_add_ID = [i for i in T6_add_ID if all([i not in T5_add_ID, i not in T5_2_add_ID])]\n",
    "T11_add_ID = [i for i in T11_add_ID if all([i not in T5_add_ID, i not in T5_2_add_ID, i not in T6_add_ID])]\n",
    "template = ['T5', 'T5-2', 'T6', 'T11']\n",
    "add = [T5_add_ID, T5_2_add_ID, T6_add_ID, T11_add_ID]\n",
    "for i, t in enumerate(template):\n",
    "    text = ''\n",
    "    for id in add[i]:\n",
    "        id = str(id)\n",
    "        if allstock_info.loc[id, '市場別'] == '上櫃':\n",
    "            text += f'TPEX:{id}\\n'\n",
    "        elif allstock_info.loc[id, '市場別'] == '上市':\n",
    "            text += f'TWSE:{id}\\n'\n",
    "        # create and save to txt\n",
    "    with open(f'C:/Users/User/Desktop/StockInfoHub/Stock_Data_Collector/tradingview觀察清單/{new_date}_{t}_add.txt', 'w', encoding='utf-8') as f:\n",
    "        f.write(text)\n",
    "    print(f'{new_date}-{t}_add.txt saved')"
   ]
  },
  {
   "cell_type": "markdown",
   "metadata": {},
   "source": [
    "## 股票ID轉tradingview格式"
   ]
  },
  {
   "cell_type": "code",
   "execution_count": 25,
   "metadata": {},
   "outputs": [
    {
     "name": "stdout",
     "output_type": "stream",
     "text": [
      "資產股.txt saved\n"
     ]
    }
   ],
   "source": [
    "stock_id = pd.read_excel(r'C:\\Users\\User\\Desktop\\StockInfoHub\\others\\產業別.xlsx')\n",
    "industry = '資產股'\n",
    "stock_id = stock_id[industry]\n",
    "stock_id = stock_id.loc[stock_id != 0]\n",
    "for id in stock_id.values:\n",
    "    id = str(id)\n",
    "    if allstock_info.loc[id, '市場別'] == '上櫃':\n",
    "        text += f'TPEX:{id}\\n'\n",
    "    elif allstock_info.loc[id, '市場別'] == '上市':\n",
    "        text += f'TWSE:{id}\\n'\n",
    "    # create and save to txt\n",
    "with open(f'C:/Users/User/Desktop/StockInfoHub/Stock_Data_Collector/tradingview觀察清單/{industry}.txt', 'w', encoding='utf-8') as f:\n",
    "    f.write(text)\n",
    "print(f'{industry}.txt saved')"
   ]
  }
 ],
 "metadata": {
  "kernelspec": {
   "display_name": "Python 3",
   "language": "python",
   "name": "python3"
  },
  "language_info": {
   "codemirror_mode": {
    "name": "ipython",
    "version": 3
   },
   "file_extension": ".py",
   "mimetype": "text/x-python",
   "name": "python",
   "nbconvert_exporter": "python",
   "pygments_lexer": "ipython3",
   "version": "3.10.4"
  }
 },
 "nbformat": 4,
 "nbformat_minor": 2
}
