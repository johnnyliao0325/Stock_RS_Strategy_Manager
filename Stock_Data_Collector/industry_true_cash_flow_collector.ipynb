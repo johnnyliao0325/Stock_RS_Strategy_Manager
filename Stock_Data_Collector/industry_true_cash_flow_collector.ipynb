{
 "cells": [
  {
   "cell_type": "markdown",
   "metadata": {},
   "source": [
    "## 從goodinfo下載前一天個股的成交量資料"
   ]
  },
  {
   "cell_type": "code",
   "execution_count": 1,
   "metadata": {},
   "outputs": [],
   "source": [
    "from selenium import webdriver\n",
    "from selenium.webdriver.common.by import By\n",
    "from selenium.webdriver.chrome.service import Service as ChromeService\n",
    "from webdriver_manager.chrome import ChromeDriverManager\n",
    "from selenium.webdriver.support.ui import Select\n",
    "# import pyautogui\n",
    "import time\n",
    "import requests\n",
    "import os\n",
    "import pandas as pd\n",
    "from io import StringIO\n",
    "import os\n",
    "import pandas as pd"
   ]
  },
  {
   "cell_type": "code",
   "execution_count": 4,
   "metadata": {},
   "outputs": [
    {
     "name": "stdout",
     "output_type": "stream",
     "text": [
      "今日csv\n",
      "已匯出csv 1\n",
      "已匯出csv 2\n",
      "已匯出csv 3\n",
      "已匯出csv 4\n",
      "已匯出csv 5\n",
      "已匯出csv 6\n"
     ]
    }
   ],
   "source": [
    "# 選日期\n",
    "#當沖日期 1: 今日 2: 昨日\n",
    "choose_date = 1\n",
    "def select_date(date_index):\n",
    "    select_date_element = driver.find_element(By.ID, 'selRPT_TIME')\n",
    "    date_selection = Select(select_date_element)\n",
    "    # print(len(date_selection.options))\n",
    "    date_selection.select_by_index(date_index)\n",
    "    time.sleep(1)\n",
    "def select_stock_index(stock_range_index):\n",
    "    select_stock_index_element = driver.find_element(By.ID, 'selRANK')\n",
    "    stock_index_selection = Select(select_stock_index_element)\n",
    "    # print(len(stock_index_selection.options))\n",
    "    # stock_index_selection.select_by_index(stock_range_index)\n",
    "    stock_index_selection.select_by_value(str(stock_range_index))\n",
    "    time.sleep(1)\n",
    "def click_export_csv():\n",
    "    # 找到匯出按鈕元素\n",
    "    export_button = driver.find_element(By.XPATH, '//input[@value=\"匯出CSV\"]')\n",
    "    # 點擊匯出按鈕\n",
    "    export_button.click()\n",
    "service = ChromeService(executable_path=ChromeDriverManager().install())\n",
    "# 關閉通知提醒\n",
    "chrome_options = webdriver.ChromeOptions()\n",
    "prefs = {\"profile.default_content_setting_values.notifications\" : 2}\n",
    "chrome_options.add_experimental_option(\"prefs\",prefs)\n",
    "# chrome_options.add_argument('--headless')\n",
    "chrome_options.add_argument(\"user-agent=Mozilla/5.0 (Windows NT 10.0; Win64; x64) AppleWebKit/537.36 (KHTML, like Gecko) Chrome/91.0.4472.124 Safari/537.36\")\n",
    "\n",
    "# 開啟瀏覽器\n",
    "url = 'https://goodinfo.tw/tw2/StockList.asp?RPT_TIME=&MARKET_CAT=\\\n",
    "%E7%86%B1%E9%96%80%E6%8E%92%E8%A1%8C&INDUSTRY_CAT=%E7%8F%BE%E8%82%A1\\\n",
    "%E7%95%B6%E6%B2%96%E5%BC%B5%E6%95%B8+%28%E7%95%B6%E6%97%A5%29%40%40%E\\\n",
    "7%8F%BE%E8%82%A1%E7%95%B6%E6%B2%96%E5%BC%B5%E6%95%B8%40%40%E7%95%B6%E6%97%A5'\n",
    "\n",
    "driver = webdriver.Chrome(service=service, options=chrome_options)\n",
    "try:\n",
    "    driver.get(url)\n",
    "except Exception as e:\n",
    "    print(e)\n",
    "    driver.close()\n",
    "    driver.quit()\n",
    "# ok = input('請確認網頁已經開啟，按下Enter繼續')\n",
    "for date_index in [choose_date]:\n",
    "    select_date(date_index)\n",
    "    if date_index == 1:\n",
    "        print('今日csv')\n",
    "    elif date_index == 2:\n",
    "        print('昨日csv')\n",
    "    for stock_range_index in range(6):\n",
    "        select_stock_index(stock_range_index)\n",
    "        time.sleep(2)\n",
    "        click_export_csv()\n",
    "        print(f'已匯出csv {stock_range_index+1}')\n",
    "    time.sleep(3)\n",
    "driver.close()\n",
    "driver.quit()\n"
   ]
  },
  {
   "cell_type": "markdown",
   "metadata": {},
   "source": [
    "## 把成交量資料合為一個csv"
   ]
  },
  {
   "cell_type": "code",
   "execution_count": 3,
   "metadata": {},
   "outputs": [
    {
     "name": "stdout",
     "output_type": "stream",
     "text": [
      "處理檔案： StockList.csv\n",
      "處理檔案： StockList (1).csv\n",
      "處理檔案： StockList (2).csv\n",
      "處理檔案： StockList (3).csv\n",
      "處理檔案： StockList (4).csv\n",
      "處理檔案： StockList (5).csv\n"
     ]
    }
   ],
   "source": [
    "\n",
    "\n",
    "# 資料夾路徑\n",
    "folder_path = 'C:/Users/User/Downloads/'\n",
    "\n",
    "# 獲取資料夾中所有的檔案名稱\n",
    "# file_names = [f for f in os.listdir(folder_path) if f.endswith('.csv')]\n",
    "file_names = []\n",
    "for i in range(6):\n",
    "    if i == 0:\n",
    "        file_names.append(f'StockList.csv')\n",
    "    else:\n",
    "        file_names.append(f'StockList ({i}).csv')\n",
    "# 讀取每個 CSV 檔案並進行處理\n",
    "for file_name in file_names:\n",
    "    file_path = os.path.join(folder_path, file_name)\n",
    "    print('處理檔案：', file_name)\n",
    "    read_df = pd.read_csv(file_path)\n",
    "    file_date = read_df['當沖日期'].values[0].replace('/','_')\n",
    "    save_file_name = file_date +'.csv'\n",
    "    save_path = 'C:/Users/User/Desktop/StockInfoHub/Stock_Data_Collector/實質成交量資料'\n",
    "    df = read_df[['排名','代號','名稱','當沖日期','當沖買進額(百萬)','成交額(百萬)']].copy()\n",
    "    df['代號'] = df['代號'].map(lambda x: x.replace('=','').replace('\"',''))\n",
    "    df[['成交額(百萬)', '當沖買進額(百萬)']] = df[['成交額(百萬)', '當沖買進額(百萬)']].astype(str)\n",
    "    if df['成交額(百萬)'].dtype == 'object':\n",
    "        df['成交額(百萬)'] = df['成交額(百萬)'].map(lambda x: x.replace(',',''))\n",
    "    if df['當沖買進額(百萬)'].dtype == 'object':\n",
    "        df['當沖買進額(百萬)'] = df['當沖買進額(百萬)'].map(lambda x: x.replace(',',''))\n",
    "    df['實質成交量(百萬)'] = df['成交額(百萬)'].astype(float) - df['當沖買進額(百萬)'].astype(float)\n",
    "    # write if file not in save_path\n",
    "    if save_file_name not in os.listdir(save_path):\n",
    "        df = df.loc[list(map(lambda x:len(x) == 4, df['代號'].values))]\n",
    "        df.to_csv(os.path.join(save_path, save_file_name), index=False, encoding='utf-8-sig')\n",
    "    else:\n",
    "        # print(df['代號'].values[0], len(df['代號'].values[0]))\n",
    "        the_date_df = pd.read_csv(os.path.join(save_path, save_file_name))\n",
    "        df = df.loc[list(map(lambda x:len(x) == 4, df['代號']))]\n",
    "        the_date_df = pd.concat([the_date_df,df])\n",
    "        the_date_df.to_csv(os.path.join(save_path, save_file_name), index=False, encoding='utf-8-sig')\n",
    "\n",
    "    # 如果需要，你可以刪除原始檔案\n",
    "    # os.remove(file_path)\n",
    "for remove_file_name in file_names:\n",
    "    file_path = os.path.join(folder_path, remove_file_name)\n",
    "    os.remove(file_path)\n",
    "\n"
   ]
  },
  {
   "cell_type": "markdown",
   "metadata": {},
   "source": [
    "## 計算當天實質成交量產業排行"
   ]
  },
  {
   "cell_type": "code",
   "execution_count": 4,
   "metadata": {},
   "outputs": [
    {
     "name": "stdout",
     "output_type": "stream",
     "text": [
      "12_19\n",
      "    industry    ID  count\n",
      "22     穿戴式裝置  2317      1\n",
      "42     穿戴式裝置  2357      1\n",
      "97     穿戴式裝置  2324      1\n",
      "131    穿戴式裝置  4938      1\n",
      "425    穿戴式裝置  2498      1\n",
      "5\n",
      "71.4\n"
     ]
    }
   ],
   "source": [
    "def top_true_volume_industry(daily_true_volume_stokc_ID, day):\n",
    "    number_of_stock = []\n",
    "    industry_df = pd.read_excel(r'C:\\Users\\User\\Desktop\\StockInfoHub\\others\\產業別.xlsx').astype(int).astype(str)\n",
    "    for col in industry_df.columns.values:\n",
    "        n = len(industry_df.loc[industry_df[col] != '0', col].values)\n",
    "        number_of_stock.append([col, n])\n",
    "    number_df = pd.DataFrame(number_of_stock, columns=['industry', 'number'])\n",
    "    all = []\n",
    "    for id in daily_true_volume_stokc_ID:\n",
    "        stock_ind = []\n",
    "        for col in industry_df.columns.values:\n",
    "            # print(id)\n",
    "            if str(id) in industry_df[col].values:\n",
    "                stock_ind.append(col)\n",
    "                all.append([col, id, 1])\n",
    "    all_df = pd.DataFrame(all, columns=['industry', 'ID', 'count'])\n",
    "    print(all_df.loc[all_df['industry']=='穿戴式裝置'])\n",
    "    # print(all_df.head())\n",
    "    top_volume_industry = all_df.groupby(by='industry').sum().sort_values(by='count',ascending=False)\n",
    "    print(top_volume_industry.loc['穿戴式裝置', 'count'])\n",
    "    top_volume_industry['all number'] = 1\n",
    "    for industry in top_volume_industry.index.values:\n",
    "        top_volume_industry.loc[industry, 'all number'] = number_df.loc[number_df['industry']==industry, 'number'].values\n",
    "        top_volume_industry.loc[industry, 'percentage'] = round(100*top_volume_industry.loc[industry, 'count']/top_volume_industry.loc[industry, 'all number'],1)\n",
    "    \n",
    "    print(top_volume_industry.loc['穿戴式裝置', 'percentage'])\n",
    "    top_volume_industry = top_volume_industry.transpose()\n",
    "    daily_top_volume_percentage = pd.DataFrame(top_volume_industry.loc['percentage'].values,columns=[str(day)], index=top_volume_industry.columns.values).transpose()\n",
    "    history = pd.read_excel('C:/Users/User/Desktop/StockInfoHub/Stock_RS_rate_analysis/100產業分析/100產業實質成交值排行.xlsx', header=0, index_col=0)\n",
    "    history.index = history.index.astype(str)\n",
    "    try:\n",
    "        history.drop(str(day), inplace=True)\n",
    "        print(f'already update, rewrite today top business volume industry.')\n",
    "    except Exception as e:\n",
    "        pass\n",
    "    h = pd.concat([history, daily_top_volume_percentage], axis =0)\n",
    "    \n",
    "    h.sort_index(ascending = False, inplace=True)\n",
    "    h.to_excel('C:/Users/User/Desktop/StockInfoHub/Stock_RS_rate_analysis/100產業分析/100產業實質成交值排行.xlsx')\n",
    "# 資料夾路徑\n",
    "folder_path = 'C:/Users/User/Desktop/StockInfoHub/Stock_Data_Collector/實質成交量資料'\n",
    "\n",
    "# 獲取資料夾中所有的檔案名稱\n",
    "# file_names = [f for f in os.listdir(folder_path) if f.endswith('.csv')]\n",
    "file_names = [save_file_name]\n",
    "for file_name in file_names:\n",
    "    date = file_name.replace('.csv','')\n",
    "    print(date)\n",
    "    daily_true_volume_df = pd.read_csv('C:/Users/User/Desktop/StockInfoHub/Stock_Data_Collector/實質成交量資料/'+file_name)\n",
    "    daily_true_volume_df = daily_true_volume_df.sort_values(by='實質成交量(百萬)', ascending=False)\n",
    "    # print(daily_true_volume_df.head())\n",
    "    daily_true_volume_df.set_index('代號', inplace=True)\n",
    "    daily_true_volume_df = daily_true_volume_df.iloc[:340]\n",
    "    daily_true_volume_stokc_ID = daily_true_volume_df.index.values\n",
    "    top_true_volume_industry(daily_true_volume_stokc_ID, date.replace('_','/'))\n"
   ]
  }
 ],
 "metadata": {
  "kernelspec": {
   "display_name": "Python 3",
   "language": "python",
   "name": "python3"
  },
  "language_info": {
   "codemirror_mode": {
    "name": "ipython",
    "version": 3
   },
   "file_extension": ".py",
   "mimetype": "text/x-python",
   "name": "python",
   "nbconvert_exporter": "python",
   "pygments_lexer": "ipython3",
   "version": "3.10.4"
  }
 },
 "nbformat": 4,
 "nbformat_minor": 2
}
